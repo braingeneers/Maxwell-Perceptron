{
 "cells": [
  {
   "cell_type": "markdown",
   "id": "dd0dc346",
   "metadata": {},
   "source": [
    "<font size=7> Perceptron Algorithm Test"
   ]
  },
  {
   "cell_type": "markdown",
   "id": "281fc8cf",
   "metadata": {},
   "source": [
    "**References**\n",
    "\n",
    "* [Preceptron Wiki](https://en.wikipedia.org/wiki/Perceptron)\n",
    "* [Braingeneers Analytics Code](https://github.com/braingeneers/braingeneerspy/tree/master/braingeneers)"
   ]
  },
  {
   "cell_type": "markdown",
   "id": "33b25fed",
   "metadata": {},
   "source": [
    "# Haussler Notes"
   ]
  },
  {
   "cell_type": "markdown",
   "id": "a1dba898",
   "metadata": {},
   "source": [
    "## Feb 9 - Email"
   ]
  },
  {
   "cell_type": "markdown",
   "id": "f61a0a47",
   "metadata": {},
   "source": [
    "**Explanation**\n",
    "\n",
    "I thought about perceptron learning tests we might do with organoids. The more I think about it, the more I think these are the most important basic tests to do. This kind of learning behavior is the basis for the entire edifice of deep learning. Its requirements are modest.\n",
    "\n",
    "For organoids, the positive-weights-only version of perceptron learning is best. In that set up there is a true vector $u$ to be learned, a hypothesis $w$, and a test example vector $x$. All these vectors have $n$ components, e.g. $u = (u_1, \\ldots , u_n)$.\n",
    "The components are non-negative for $u$ and $w$, while the components for $x$ are arbitrary except that $||x|| = 1$. There is also an accuracy threshold $\\delta > 0$.\n",
    "\n",
    "Think of $x$ as a test case for the hypothesis $w$. To judge $w$ you compute\n",
    "$$ y = sign( w \\cdot x)$$ and $$y^\\star = sign( u \\cdot x)$$, i.e. the sign of the dot products. There are two cases:\n",
    "\n",
    "(1)  if the magnitude of both of the dot products above is small, i.e. $< \\delta$, then you ignore this test case $x$. Else\n",
    "\n",
    "(2) if $y$ is negative and $y^\\star$ is positive, then the error is $\\epsilon = 1$ and we say the hypothesis has made a mistake. If $y$ is positive and $y^\\star$ is negative, then the error is $\\epsilon = -1$ and again we say the hypothesis has made a mistake. If $y = y^\\star$ then $\\epsilon = 0$ and we register no mistake.\n",
    "\n",
    "After the hypothesis $w$ has been judged by the input $x$, then assuming $x$ is not ignored because of case (1), the hypothesis is updated by the perceptron learning rule:\n",
    "\n",
    "$$ w := w + \\epsilon^\\prime x$$\n",
    "where $\\epsilon^\\prime$ is the largest magnitude down-scaled version of $\\epsilon$ such that the update does not cause any of the components of $w$ to become negative. This means that if the perceptron update with $\\epsilon^\\prime = \\epsilon$ does not cause any components of $w$ to become  negative, you just do it, otherwise you scale the learning rate epsilon back as needed so the update does not create negative components of $w$.\n",
    "\n",
    "This procedure goes on forever. The test $x$ can be chosen arbitrarily (they don't need to be chosen from a particular probability distribution. The truth $u$ can be arbitrary, but with positive components. The initial hypothesis $w$ can be arbitrary, but with positive components. The learning process will always stop making mistakes.\n",
    "\n",
    "It would be fun to have a notebook for this."
   ]
  },
  {
   "cell_type": "markdown",
   "id": "7836bc34",
   "metadata": {},
   "source": [
    "**To do with organoids**\n",
    "\n",
    "1. You need to be able to input a vector $x$ of length $n$. It does not need to have super high precision. The simplest scheme is to choose $2n$ neurons to stimulate, organized into $n$ pairs. To input the value of the $i$th coordinate of the input vector $x$, $1 \\leq i \\leq n$, if it is positive you stimulate the first neuron in the $i$th pair and not the second, and if it is negative you swap this. To communicate to the organoid the absolute value of the $i$th coordinate, you apply more stimulation for larger absolute values.\n",
    "\n",
    "2. You need to be able to\n",
    "a. \"read\" hypothesis state vector $w$ from the organoid and take the sign of its dot product with the input vector $x$ or\n",
    "b. simply let the organoid tell you what it thinks the sign of the dot product of its hypothesis state vector is on an \"output pair\" where if the first neuron in the output pair has a larger response than the second, the output is read as +, else -.\n",
    "\n",
    "3. You need to be able to give the organoid a three-valued feedback, corresponding to the three cases of the sign of perceptron update variable $\\epsilon$. The 3 values are \"too high\" ($\\epsilon = -1$),   \"two low\" ($\\epsilon = 1$) and \"correct\"( $\\epsilon = 0$). Possibly \"correct\" is silence, and too high, and too low are two different kinds of annoying pokes."
   ]
  },
  {
   "cell_type": "markdown",
   "id": "022cd95d",
   "metadata": {},
   "source": [
    "## Feb 23 - Email"
   ]
  },
  {
   "cell_type": "markdown",
   "id": "401c280b",
   "metadata": {},
   "source": [
    "I think this is where we got to:\n",
    "\n",
    "Plan is to do the following experiment:\n",
    "\n",
    "pick two input patches on a organoid, say A1 and A2\n",
    "\n",
    "pick two output patches on an organoid, say B1 and B2.\n",
    "\n",
    "Look at the correlation between\n",
    "\n",
    "A = sign of the difference in activity level between A1 and A2 and\n",
    "B = sign of difference in activity level between B1 and B2\n",
    "\n",
    "In any measurement, neither of these differences can be too close to zero, e.g. require magnitude > delta for some delta > 0 that you set, else make another measurement.\n",
    "\n",
    "If the correlation is positive the way the organpid grew, then try to train the organoid so the correlation is negative.\n",
    "\n",
    "-----------\n",
    "This would be a cool experiment. note there are actually two types of errors when you are trying to train the correlation to be negative (same two kinds of error as in the perceptron algorithm)\n",
    "\n",
    "1. A = +1 and B = +1\n",
    "2. A = -1  and B = -1\n",
    "\n",
    "(in the other two cases, i.e.  A = + 1 and B = -1, or A = -1 and B = +1, there is no error because you are trying to make the correlation negative. )\n",
    "\n",
    "Our idea was to administer a rude poke when the organoid makes an error. (When there is no error you do nothing.) One possibility is to administer the same kind of rude poke for error of type 1 above as for error of type 2 above.  However, I think we will need two different rude pokes, one for errors of type 1 and the other for errors of type 2.\n",
    "\n",
    "--"
   ]
  },
  {
   "cell_type": "markdown",
   "id": "066bf889",
   "metadata": {},
   "source": [
    "## Feb 23- Images"
   ]
  },
  {
   "cell_type": "markdown",
   "id": "e442373f",
   "metadata": {},
   "source": [
    "Whiteboard notes"
   ]
  },
  {
   "cell_type": "code",
   "execution_count": null,
   "id": "4e2c51a4",
   "metadata": {},
   "outputs": [],
   "source": [
    "from ipywidgets import interact, interact_manual\n",
    "from IPython.core.display import display, Image, HTML\n",
    "figures=!cd Images && ls\n",
    "@interact_manual(  figure=(0,len(figures)-1) ) \n",
    "def displayer( figure ):\n",
    "    display(HTML(\"<h3 class='text-center'>\"+figures[figure]+\"</h3>;&nbsp;&nbsp;\"))\n",
    "    display(Image(filename=\"Images/\"+figures[figure]))\n",
    "    "
   ]
  },
  {
   "cell_type": "markdown",
   "id": "cd19dfce",
   "metadata": {},
   "source": [
    "# <font color=\"magenta\">Peceptron Class"
   ]
  },
  {
   "cell_type": "code",
   "execution_count": null,
   "id": "13e61b9f",
   "metadata": {},
   "outputs": [],
   "source": [
    "import numpy as np # Comse in handy for debugging"
   ]
  },
  {
   "cell_type": "code",
   "execution_count": null,
   "id": "bda666ae",
   "metadata": {},
   "outputs": [],
   "source": [
    "from Code.Perceptron import Perceptron"
   ]
  },
  {
   "cell_type": "code",
   "execution_count": null,
   "id": "b61a598c",
   "metadata": {},
   "outputs": [],
   "source": [
    "#perceiver = Perceptron( x_len=3 )"
   ]
  },
  {
   "cell_type": "markdown",
   "id": "4b022828",
   "metadata": {},
   "source": [
    "## <font color=\"brown\"> Test Perceptron Class"
   ]
  },
  {
   "cell_type": "markdown",
   "id": "6ff8c3fe",
   "metadata": {},
   "source": [
    "## <font color=\"brown\"> Test for $y$"
   ]
  },
  {
   "cell_type": "markdown",
   "id": "b8853129",
   "metadata": {},
   "source": [
    "To test the Perceptron code I created the `perceiver` class, and the ran the code below multipel times to see if the weights update in the correct direction."
   ]
  },
  {
   "cell_type": "code",
   "execution_count": null,
   "id": "6b0f6be5",
   "metadata": {},
   "outputs": [],
   "source": [
    "perceiver = Perceptron( x_len=3 ) "
   ]
  },
  {
   "cell_type": "markdown",
   "id": "91659c2f",
   "metadata": {},
   "source": [
    "Create data to feed in. <font color=\"gray\">Note: Depending on the initial weights above, you can try feeding in different data variables."
   ]
  },
  {
   "cell_type": "code",
   "execution_count": null,
   "id": "da8005ea",
   "metadata": {},
   "outputs": [],
   "source": [
    "x = [1,.3,-5]\n",
    "y = 0"
   ]
  },
  {
   "cell_type": "code",
   "execution_count": null,
   "id": "933dc2cf",
   "metadata": {},
   "outputs": [],
   "source": [
    "perceiver.getW()"
   ]
  },
  {
   "cell_type": "code",
   "execution_count": null,
   "id": "0dd3de74",
   "metadata": {},
   "outputs": [],
   "source": [
    "perceiver.getHistory()"
   ]
  },
  {
   "cell_type": "markdown",
   "id": "56ded144",
   "metadata": {},
   "source": [
    "update"
   ]
  },
  {
   "cell_type": "code",
   "execution_count": null,
   "id": "4843cc27",
   "metadata": {},
   "outputs": [],
   "source": [
    "perceiver.predict(x)"
   ]
  },
  {
   "cell_type": "code",
   "execution_count": null,
   "id": "718d9c40",
   "metadata": {},
   "outputs": [],
   "source": [
    "perceiver.update(x,y)"
   ]
  },
  {
   "cell_type": "markdown",
   "id": "504c92e0",
   "metadata": {},
   "source": [
    "### <font color=\"brown\">  Test for $u$"
   ]
  },
  {
   "cell_type": "markdown",
   "id": "3ad6557b",
   "metadata": {},
   "source": [
    "To test the Perceptron code I created the `perceiver` class, and the ran the code below multipel times to see if the weights update in the correct direction."
   ]
  },
  {
   "cell_type": "code",
   "execution_count": null,
   "id": "872101ba",
   "metadata": {},
   "outputs": [],
   "source": [
    "perceiver = Perceptron( x_len=3, use_u=True )"
   ]
  },
  {
   "cell_type": "markdown",
   "id": "f2a3ac45",
   "metadata": {},
   "source": [
    "Create data to feed in. <font color=\"gray\">Note: Depending on the initial weights above, you can try feeding in different data variables."
   ]
  },
  {
   "cell_type": "code",
   "execution_count": null,
   "id": "858b1f9e",
   "metadata": {},
   "outputs": [],
   "source": [
    "x = [1,.9,.9]\n",
    "u = [-.01,-.01,.01]"
   ]
  },
  {
   "cell_type": "code",
   "execution_count": null,
   "id": "ef2bc160",
   "metadata": {},
   "outputs": [],
   "source": [
    "perceiver.getW()"
   ]
  },
  {
   "cell_type": "code",
   "execution_count": null,
   "id": "5df7c5e3",
   "metadata": {},
   "outputs": [],
   "source": [
    "perceiver.getHistory()"
   ]
  },
  {
   "cell_type": "markdown",
   "id": "d803ec75",
   "metadata": {},
   "source": [
    "Update "
   ]
  },
  {
   "cell_type": "code",
   "execution_count": null,
   "id": "eceb3f80",
   "metadata": {},
   "outputs": [],
   "source": [
    "perceiver.predict(x)"
   ]
  },
  {
   "cell_type": "code",
   "execution_count": null,
   "id": "1a2e3f52",
   "metadata": {},
   "outputs": [],
   "source": [
    "np.dot( x, u ) "
   ]
  },
  {
   "cell_type": "code",
   "execution_count": null,
   "id": "1b1a7e65",
   "metadata": {},
   "outputs": [],
   "source": [
    "perceiver.update(x,u)"
   ]
  },
  {
   "cell_type": "markdown",
   "id": "546f2171",
   "metadata": {},
   "source": [
    "# <font color=\"darkBlue\"> Spike Raster"
   ]
  },
  {
   "cell_type": "markdown",
   "id": "538d72c9",
   "metadata": {},
   "source": [
    "## Get dummy data"
   ]
  },
  {
   "cell_type": "markdown",
   "id": "fb2784d7",
   "metadata": {},
   "source": [
    "We follow [this example](https://github.com/braingeneers/braingeneerspy/blob/master/braingeneers/neuron_example.ipynb) to get spikes data from braingeneers."
   ]
  },
  {
   "cell_type": "code",
   "execution_count": null,
   "id": "9b40a7d6",
   "metadata": {},
   "outputs": [],
   "source": [
    "from braingeneers.neuron import Neuron"
   ]
  },
  {
   "cell_type": "code",
   "execution_count": null,
   "id": "ca024e25",
   "metadata": {},
   "outputs": [],
   "source": [
    "n = Neuron('test_recording')\n",
    "n.load_spikes_test()\n",
    "n.load_map()"
   ]
  },
  {
   "cell_type": "markdown",
   "id": "1265b6b4",
   "metadata": {},
   "source": [
    "Basic Stats about the spike raster"
   ]
  },
  {
   "cell_type": "code",
   "execution_count": null,
   "id": "6497d9cc",
   "metadata": {},
   "outputs": [],
   "source": [
    "n.spikes"
   ]
  },
  {
   "cell_type": "code",
   "execution_count": null,
   "id": "cc8404b0",
   "metadata": {},
   "outputs": [],
   "source": [
    "n.spikes.shape"
   ]
  },
  {
   "cell_type": "code",
   "execution_count": null,
   "id": "2b409fcb",
   "metadata": {},
   "outputs": [],
   "source": [
    "np.sum( n.spikes, 1 ) "
   ]
  },
  {
   "cell_type": "markdown",
   "id": "2e1fd03f",
   "metadata": {},
   "source": [
    "## Get Correlations"
   ]
  },
  {
   "cell_type": "markdown",
   "id": "2ccc712f",
   "metadata": {},
   "source": [
    "we use [this code](https://github.com/braingeneers/braingeneerspy/blob/master/braingeneers/analysis.py) to get correlations"
   ]
  },
  {
   "cell_type": "code",
   "execution_count": null,
   "id": "5b76bfbc",
   "metadata": {},
   "outputs": [],
   "source": [
    "from braingeneers.analysis import SpikeData   # I didn't actually use spike data\n",
    "from braingeneers.analysis import pearson"
   ]
  },
  {
   "cell_type": "code",
   "execution_count": null,
   "id": "691bd232",
   "metadata": {},
   "outputs": [],
   "source": [
    "# Checking things out\n",
    "#analyzer = SpikeData( n.spikes )\n",
    "# p1, p2 = analyzer.idces_times()\n",
    "#p2.shape"
   ]
  },
  {
   "cell_type": "markdown",
   "id": "74fd0c2d",
   "metadata": {},
   "source": [
    "Break data into ten steps. Get correlation for each step."
   ]
  },
  {
   "cell_type": "code",
   "execution_count": null,
   "id": "7055b82b",
   "metadata": {},
   "outputs": [],
   "source": [
    "pearsons = []\n",
    "for i in range( 0,1000,100 ):\n",
    "    #print(i)#, i+100) #print( n.spikes[:,i:(i+100)].shape )\n",
    "    pearsons.append( pearson( n.spikes[:,i:(i+100)] ) )"
   ]
  },
  {
   "cell_type": "code",
   "execution_count": null,
   "id": "d73205fe",
   "metadata": {},
   "outputs": [],
   "source": [
    "@interact_manual(  idx=(0,len(pearsons)-1) ) \n",
    "def show_corr( idx ):\n",
    "    fig = px.imshow(pearsons[idx])\n",
    "    fig.show()\n"
   ]
  },
  {
   "cell_type": "code",
   "execution_count": null,
   "id": "13c70187",
   "metadata": {},
   "outputs": [],
   "source": []
  },
  {
   "cell_type": "code",
   "execution_count": null,
   "id": "9bfe2c34",
   "metadata": {},
   "outputs": [],
   "source": []
  },
  {
   "cell_type": "code",
   "execution_count": null,
   "id": "7f2481c4",
   "metadata": {},
   "outputs": [],
   "source": []
  },
  {
   "cell_type": "code",
   "execution_count": null,
   "id": "e6030d51",
   "metadata": {},
   "outputs": [],
   "source": []
  },
  {
   "cell_type": "code",
   "execution_count": null,
   "id": "27c1d194",
   "metadata": {},
   "outputs": [],
   "source": []
  },
  {
   "cell_type": "code",
   "execution_count": null,
   "id": "47df3244",
   "metadata": {},
   "outputs": [],
   "source": []
  },
  {
   "cell_type": "code",
   "execution_count": null,
   "id": "cfd087c7",
   "metadata": {},
   "outputs": [],
   "source": []
  },
  {
   "cell_type": "code",
   "execution_count": null,
   "id": "9fbdec16",
   "metadata": {},
   "outputs": [],
   "source": []
  },
  {
   "cell_type": "code",
   "execution_count": null,
   "id": "8cf49018",
   "metadata": {},
   "outputs": [],
   "source": []
  },
  {
   "cell_type": "code",
   "execution_count": null,
   "id": "db92a217",
   "metadata": {},
   "outputs": [],
   "source": []
  },
  {
   "cell_type": "code",
   "execution_count": null,
   "id": "e0f03f40",
   "metadata": {},
   "outputs": [],
   "source": []
  },
  {
   "cell_type": "code",
   "execution_count": null,
   "id": "f01a340a",
   "metadata": {},
   "outputs": [],
   "source": []
  },
  {
   "cell_type": "code",
   "execution_count": null,
   "id": "3c6e7a8b",
   "metadata": {},
   "outputs": [],
   "source": []
  },
  {
   "cell_type": "code",
   "execution_count": null,
   "id": "cf6798de",
   "metadata": {},
   "outputs": [],
   "source": []
  },
  {
   "cell_type": "code",
   "execution_count": null,
   "id": "81bf67a8",
   "metadata": {},
   "outputs": [],
   "source": []
  },
  {
   "cell_type": "code",
   "execution_count": null,
   "id": "327523fb",
   "metadata": {},
   "outputs": [],
   "source": []
  },
  {
   "cell_type": "code",
   "execution_count": null,
   "id": "e12ebe8d",
   "metadata": {},
   "outputs": [],
   "source": []
  },
  {
   "cell_type": "code",
   "execution_count": null,
   "id": "bc759bf8",
   "metadata": {},
   "outputs": [],
   "source": []
  },
  {
   "cell_type": "code",
   "execution_count": null,
   "id": "0fa3cbf9",
   "metadata": {},
   "outputs": [],
   "source": []
  },
  {
   "cell_type": "code",
   "execution_count": null,
   "id": "172929c4",
   "metadata": {},
   "outputs": [],
   "source": []
  },
  {
   "cell_type": "code",
   "execution_count": null,
   "id": "7186bd97",
   "metadata": {},
   "outputs": [],
   "source": []
  },
  {
   "cell_type": "code",
   "execution_count": null,
   "id": "0bc5198a",
   "metadata": {},
   "outputs": [],
   "source": []
  },
  {
   "cell_type": "code",
   "execution_count": null,
   "id": "82bec975",
   "metadata": {},
   "outputs": [],
   "source": []
  },
  {
   "cell_type": "code",
   "execution_count": null,
   "id": "5044a7dd",
   "metadata": {},
   "outputs": [],
   "source": []
  },
  {
   "cell_type": "code",
   "execution_count": null,
   "id": "d00a0322",
   "metadata": {},
   "outputs": [],
   "source": []
  },
  {
   "cell_type": "code",
   "execution_count": null,
   "id": "cb3b95bb",
   "metadata": {},
   "outputs": [],
   "source": []
  },
  {
   "cell_type": "code",
   "execution_count": null,
   "id": "70c1fd66",
   "metadata": {},
   "outputs": [],
   "source": []
  },
  {
   "cell_type": "code",
   "execution_count": null,
   "id": "688e892a",
   "metadata": {},
   "outputs": [],
   "source": []
  },
  {
   "cell_type": "code",
   "execution_count": null,
   "id": "93e174c8",
   "metadata": {},
   "outputs": [],
   "source": []
  }
 ],
 "metadata": {
  "hide_input": false,
  "kernelspec": {
   "display_name": "Python 3",
   "language": "python",
   "name": "python3"
  },
  "language_info": {
   "codemirror_mode": {
    "name": "ipython",
    "version": 3
   },
   "file_extension": ".py",
   "mimetype": "text/x-python",
   "name": "python",
   "nbconvert_exporter": "python",
   "pygments_lexer": "ipython3",
   "version": "3.8.8"
  },
  "toc": {
   "base_numbering": 1,
   "nav_menu": {},
   "number_sections": true,
   "sideBar": true,
   "skip_h1_title": false,
   "title_cell": "Table of Contents",
   "title_sidebar": "Contents",
   "toc_cell": false,
   "toc_position": {},
   "toc_section_display": true,
   "toc_window_display": false
  },
  "widgets": {
   "application/vnd.jupyter.widget-state+json": {
    "state": {},
    "version_major": 2,
    "version_minor": 0
   }
  }
 },
 "nbformat": 4,
 "nbformat_minor": 5
}
